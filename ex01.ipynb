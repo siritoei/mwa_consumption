{
 "cells": [
  {
   "cell_type": "code",
   "execution_count": 42,
   "metadata": {},
   "outputs": [],
   "source": [
    "import os\n",
    "import psycopg2\n",
    "from dotenv import load_dotenv\n",
    "import pandas as pd\n",
    "import matplotlib.pyplot as plt\n",
    "plt.rcParams['font.family'] = 'tahoma'\n"
   ]
  },
  {
   "cell_type": "code",
   "execution_count": null,
   "metadata": {},
   "outputs": [],
   "source": [
    "# Load environment variables from .env file\n",
    "load_dotenv()\n",
    "\n",
    "# Retrieve environment variables\n",
    "host = os.getenv(\"HOST\")\n",
    "port = os.getenv(\"PORT\")\n",
    "database = os.getenv(\"DATABASE\")\n",
    "user = os.getenv(\"DB_USER\")\n",
    "password = os.getenv(\"DB_PASS\")\n",
    "\n",
    "# Construct the connection string\n",
    "connection_string = f\"host={host} port={port} dbname={database} user={user} password={password}\""
   ]
  },
  {
   "cell_type": "code",
   "execution_count": 7,
   "metadata": {},
   "outputs": [
    {
     "name": "stdout",
     "output_type": "stream",
     "text": [
      "Connected to the PostgreSQL database!\n"
     ]
    }
   ],
   "source": [
    "# Connect to the PostgreSQL database\n",
    "try:\n",
    "    connection = psycopg2.connect(connection_string)\n",
    "    cursor = connection.cursor()\n",
    "    print(\"Connected to the PostgreSQL database!\")\n",
    "\n",
    "    # Execute queries\n",
    "    query = \"SELECT * FROM cons_by_district;\"\n",
    "    cursor.execute(query)\n",
    "    raw_data = cursor.fetchall()\n",
    "\n",
    "    # Don't forget to close the cursor and connection when done\n",
    "    cursor.close()\n",
    "    connection.close()\n",
    "\n",
    "except psycopg2.Error as e:\n",
    "    print(\"Error connecting to the database:\", e)"
   ]
  },
  {
   "cell_type": "code",
   "execution_count": 10,
   "metadata": {},
   "outputs": [
    {
     "data": {
      "text/html": [
       "<div>\n",
       "<style scoped>\n",
       "    .dataframe tbody tr th:only-of-type {\n",
       "        vertical-align: middle;\n",
       "    }\n",
       "\n",
       "    .dataframe tbody tr th {\n",
       "        vertical-align: top;\n",
       "    }\n",
       "\n",
       "    .dataframe thead th {\n",
       "        text-align: right;\n",
       "    }\n",
       "</style>\n",
       "<table border=\"1\" class=\"dataframe\">\n",
       "  <thead>\n",
       "    <tr style=\"text-align: right;\">\n",
       "      <th></th>\n",
       "      <th>id</th>\n",
       "      <th>province_code</th>\n",
       "      <th>province_name</th>\n",
       "      <th>amphur_code</th>\n",
       "      <th>amphur_name</th>\n",
       "      <th>class_group_code</th>\n",
       "      <th>class_group_name</th>\n",
       "      <th>consumption</th>\n",
       "      <th>YYMM</th>\n",
       "      <th>status</th>\n",
       "    </tr>\n",
       "  </thead>\n",
       "  <tbody>\n",
       "    <tr>\n",
       "      <th>0</th>\n",
       "      <td>1</td>\n",
       "      <td>10</td>\n",
       "      <td>กรุงเทพมหานคร</td>\n",
       "      <td>1</td>\n",
       "      <td>พระนคร</td>\n",
       "      <td>1</td>\n",
       "      <td>RESIDENCE</td>\n",
       "      <td>168906</td>\n",
       "      <td>6501</td>\n",
       "      <td>1</td>\n",
       "    </tr>\n",
       "    <tr>\n",
       "      <th>1</th>\n",
       "      <td>2</td>\n",
       "      <td>10</td>\n",
       "      <td>กรุงเทพมหานคร</td>\n",
       "      <td>1</td>\n",
       "      <td>พระนคร</td>\n",
       "      <td>2</td>\n",
       "      <td>BUSINESS</td>\n",
       "      <td>249666</td>\n",
       "      <td>6501</td>\n",
       "      <td>1</td>\n",
       "    </tr>\n",
       "    <tr>\n",
       "      <th>2</th>\n",
       "      <td>3</td>\n",
       "      <td>10</td>\n",
       "      <td>กรุงเทพมหานคร</td>\n",
       "      <td>1</td>\n",
       "      <td>พระนคร</td>\n",
       "      <td>3</td>\n",
       "      <td>INDUSTRY</td>\n",
       "      <td>7204</td>\n",
       "      <td>6501</td>\n",
       "      <td>1</td>\n",
       "    </tr>\n",
       "    <tr>\n",
       "      <th>3</th>\n",
       "      <td>4</td>\n",
       "      <td>10</td>\n",
       "      <td>กรุงเทพมหานคร</td>\n",
       "      <td>1</td>\n",
       "      <td>พระนคร</td>\n",
       "      <td>4</td>\n",
       "      <td>ENTERTAIN</td>\n",
       "      <td>38717</td>\n",
       "      <td>6501</td>\n",
       "      <td>1</td>\n",
       "    </tr>\n",
       "    <tr>\n",
       "      <th>4</th>\n",
       "      <td>5</td>\n",
       "      <td>10</td>\n",
       "      <td>กรุงเทพมหานคร</td>\n",
       "      <td>1</td>\n",
       "      <td>พระนคร</td>\n",
       "      <td>5</td>\n",
       "      <td>GOVERNMENT</td>\n",
       "      <td>47321</td>\n",
       "      <td>6501</td>\n",
       "      <td>1</td>\n",
       "    </tr>\n",
       "    <tr>\n",
       "      <th>...</th>\n",
       "      <td>...</td>\n",
       "      <td>...</td>\n",
       "      <td>...</td>\n",
       "      <td>...</td>\n",
       "      <td>...</td>\n",
       "      <td>...</td>\n",
       "      <td>...</td>\n",
       "      <td>...</td>\n",
       "      <td>...</td>\n",
       "      <td>...</td>\n",
       "    </tr>\n",
       "    <tr>\n",
       "      <th>10760</th>\n",
       "      <td>12339</td>\n",
       "      <td>10</td>\n",
       "      <td>กรุงเทพมหานคร</td>\n",
       "      <td>14</td>\n",
       "      <td>พญาไท</td>\n",
       "      <td>1</td>\n",
       "      <td>RESIDENCE</td>\n",
       "      <td>614070</td>\n",
       "      <td>6412</td>\n",
       "      <td>1</td>\n",
       "    </tr>\n",
       "    <tr>\n",
       "      <th>10761</th>\n",
       "      <td>12311</td>\n",
       "      <td>10</td>\n",
       "      <td>กรุงเทพมหานคร</td>\n",
       "      <td>10</td>\n",
       "      <td>มีนบุรี</td>\n",
       "      <td>3</td>\n",
       "      <td>INDUSTRY</td>\n",
       "      <td>289923</td>\n",
       "      <td>6412</td>\n",
       "      <td>1</td>\n",
       "    </tr>\n",
       "    <tr>\n",
       "      <th>10762</th>\n",
       "      <td>12308</td>\n",
       "      <td>10</td>\n",
       "      <td>กรุงเทพมหานคร</td>\n",
       "      <td>9</td>\n",
       "      <td>พระโขนง</td>\n",
       "      <td>8</td>\n",
       "      <td>MWA</td>\n",
       "      <td>0</td>\n",
       "      <td>6412</td>\n",
       "      <td>1</td>\n",
       "    </tr>\n",
       "    <tr>\n",
       "      <th>10763</th>\n",
       "      <td>12276</td>\n",
       "      <td>10</td>\n",
       "      <td>กรุงเทพมหานคร</td>\n",
       "      <td>5</td>\n",
       "      <td>บางเขน</td>\n",
       "      <td>7</td>\n",
       "      <td>CONSTRUCT</td>\n",
       "      <td>53512</td>\n",
       "      <td>6412</td>\n",
       "      <td>1</td>\n",
       "    </tr>\n",
       "    <tr>\n",
       "      <th>10764</th>\n",
       "      <td>11157</td>\n",
       "      <td>11</td>\n",
       "      <td>สมุทรปราการ</td>\n",
       "      <td>2</td>\n",
       "      <td>บางบ่อ</td>\n",
       "      <td>1</td>\n",
       "      <td>RESIDENCE</td>\n",
       "      <td>866069</td>\n",
       "      <td>6607</td>\n",
       "      <td>1</td>\n",
       "    </tr>\n",
       "  </tbody>\n",
       "</table>\n",
       "<p>10765 rows × 10 columns</p>\n",
       "</div>"
      ],
      "text/plain": [
       "          id province_code  province_name amphur_code amphur_name  \\\n",
       "0          1            10  กรุงเทพมหานคร           1      พระนคร   \n",
       "1          2            10  กรุงเทพมหานคร           1      พระนคร   \n",
       "2          3            10  กรุงเทพมหานคร           1      พระนคร   \n",
       "3          4            10  กรุงเทพมหานคร           1      พระนคร   \n",
       "4          5            10  กรุงเทพมหานคร           1      พระนคร   \n",
       "...      ...           ...            ...         ...         ...   \n",
       "10760  12339            10  กรุงเทพมหานคร          14       พญาไท   \n",
       "10761  12311            10  กรุงเทพมหานคร          10     มีนบุรี   \n",
       "10762  12308            10  กรุงเทพมหานคร           9     พระโขนง   \n",
       "10763  12276            10  กรุงเทพมหานคร           5      บางเขน   \n",
       "10764  11157            11    สมุทรปราการ           2      บางบ่อ   \n",
       "\n",
       "      class_group_code class_group_name  consumption  YYMM status  \n",
       "0                    1        RESIDENCE       168906  6501      1  \n",
       "1                    2         BUSINESS       249666  6501      1  \n",
       "2                    3         INDUSTRY         7204  6501      1  \n",
       "3                    4        ENTERTAIN        38717  6501      1  \n",
       "4                    5       GOVERNMENT        47321  6501      1  \n",
       "...                ...              ...          ...   ...    ...  \n",
       "10760                1        RESIDENCE       614070  6412      1  \n",
       "10761                3         INDUSTRY       289923  6412      1  \n",
       "10762                8              MWA            0  6412      1  \n",
       "10763                7        CONSTRUCT        53512  6412      1  \n",
       "10764                1        RESIDENCE       866069  6607      1  \n",
       "\n",
       "[10765 rows x 10 columns]"
      ]
     },
     "execution_count": 10,
     "metadata": {},
     "output_type": "execute_result"
    }
   ],
   "source": [
    "# Convert fetched data into df\n",
    "column_names = [desc[0] for desc in cursor.description]\n",
    "df = pd.DataFrame(raw_data, columns=column_names)\n",
    "df"
   ]
  },
  {
   "cell_type": "code",
   "execution_count": 11,
   "metadata": {},
   "outputs": [
    {
     "name": "stdout",
     "output_type": "stream",
     "text": [
      "<class 'pandas.core.frame.DataFrame'>\n",
      "RangeIndex: 10765 entries, 0 to 10764\n",
      "Data columns (total 10 columns):\n",
      " #   Column            Non-Null Count  Dtype \n",
      "---  ------            --------------  ----- \n",
      " 0   id                10765 non-null  int64 \n",
      " 1   province_code     10590 non-null  object\n",
      " 2   province_name     10590 non-null  object\n",
      " 3   amphur_code       10590 non-null  object\n",
      " 4   amphur_name       10569 non-null  object\n",
      " 5   class_group_code  10765 non-null  object\n",
      " 6   class_group_name  10765 non-null  object\n",
      " 7   consumption       10765 non-null  int64 \n",
      " 8   YYMM              10765 non-null  object\n",
      " 9   status            10765 non-null  object\n",
      "dtypes: int64(2), object(8)\n",
      "memory usage: 841.1+ KB\n"
     ]
    }
   ],
   "source": [
    "df.info()"
   ]
  },
  {
   "cell_type": "code",
   "execution_count": 12,
   "metadata": {},
   "outputs": [
    {
     "data": {
      "text/html": [
       "<div>\n",
       "<style scoped>\n",
       "    .dataframe tbody tr th:only-of-type {\n",
       "        vertical-align: middle;\n",
       "    }\n",
       "\n",
       "    .dataframe tbody tr th {\n",
       "        vertical-align: top;\n",
       "    }\n",
       "\n",
       "    .dataframe thead th {\n",
       "        text-align: right;\n",
       "    }\n",
       "</style>\n",
       "<table border=\"1\" class=\"dataframe\">\n",
       "  <thead>\n",
       "    <tr style=\"text-align: right;\">\n",
       "      <th></th>\n",
       "      <th>id</th>\n",
       "      <th>consumption</th>\n",
       "    </tr>\n",
       "  </thead>\n",
       "  <tbody>\n",
       "    <tr>\n",
       "      <th>count</th>\n",
       "      <td>10765.000000</td>\n",
       "      <td>1.076500e+04</td>\n",
       "    </tr>\n",
       "    <tr>\n",
       "      <th>mean</th>\n",
       "      <td>6184.472550</td>\n",
       "      <td>2.284146e+05</td>\n",
       "    </tr>\n",
       "    <tr>\n",
       "      <th>std</th>\n",
       "      <td>3945.290122</td>\n",
       "      <td>4.232059e+05</td>\n",
       "    </tr>\n",
       "    <tr>\n",
       "      <th>min</th>\n",
       "      <td>1.000000</td>\n",
       "      <td>0.000000e+00</td>\n",
       "    </tr>\n",
       "    <tr>\n",
       "      <th>25%</th>\n",
       "      <td>2692.000000</td>\n",
       "      <td>1.077000e+04</td>\n",
       "    </tr>\n",
       "    <tr>\n",
       "      <th>50%</th>\n",
       "      <td>5383.000000</td>\n",
       "      <td>4.374900e+04</td>\n",
       "    </tr>\n",
       "    <tr>\n",
       "      <th>75%</th>\n",
       "      <td>10038.000000</td>\n",
       "      <td>2.547960e+05</td>\n",
       "    </tr>\n",
       "    <tr>\n",
       "      <th>max</th>\n",
       "      <td>12729.000000</td>\n",
       "      <td>4.293764e+06</td>\n",
       "    </tr>\n",
       "  </tbody>\n",
       "</table>\n",
       "</div>"
      ],
      "text/plain": [
       "                 id   consumption\n",
       "count  10765.000000  1.076500e+04\n",
       "mean    6184.472550  2.284146e+05\n",
       "std     3945.290122  4.232059e+05\n",
       "min        1.000000  0.000000e+00\n",
       "25%     2692.000000  1.077000e+04\n",
       "50%     5383.000000  4.374900e+04\n",
       "75%    10038.000000  2.547960e+05\n",
       "max    12729.000000  4.293764e+06"
      ]
     },
     "execution_count": 12,
     "metadata": {},
     "output_type": "execute_result"
    }
   ],
   "source": [
    "df.describe()"
   ]
  },
  {
   "cell_type": "code",
   "execution_count": 23,
   "metadata": {},
   "outputs": [
    {
     "name": "stdout",
     "output_type": "stream",
     "text": [
      "['1' '2' '3' '4' '5' '6' '7' '8']\n",
      "['RESIDENCE' 'BUSINESS' 'INDUSTRY' 'ENTERTAIN' 'GOVERNMENT' 'INSTITUTION'\n",
      " 'CONSTRUCT' 'MWA']\n"
     ]
    }
   ],
   "source": [
    "print(df['class_group_code'].unique())\n",
    "print(df['class_group_name'].unique())"
   ]
  },
  {
   "cell_type": "code",
   "execution_count": 29,
   "metadata": {},
   "outputs": [
    {
     "name": "stdout",
     "output_type": "stream",
     "text": [
      "10    8336\n",
      "11    1035\n",
      "12    1012\n",
      "13     110\n",
      "24      66\n",
      "73      22\n",
      "         9\n",
      "Name: province_code, dtype: int64\n",
      "กรุงเทพมหานคร    8336\n",
      "สมุทรปราการ      1035\n",
      "นนทบุรี          1012\n",
      "ปทุมธานี          110\n",
      "ฉะเชิงเทรา         66\n",
      "นครปฐม             22\n",
      "                    9\n",
      "Name: province_name, dtype: int64\n"
     ]
    }
   ],
   "source": [
    "print(df['province_code'].value_counts())\n",
    "print(df['province_name'].value_counts())"
   ]
  },
  {
   "cell_type": "code",
   "execution_count": 30,
   "metadata": {},
   "outputs": [
    {
     "name": "stdout",
     "output_type": "stream",
     "text": [
      "บางซื่อ     176\n",
      "หลักสี่     176\n",
      "บางกรวย     176\n",
      "จตุจักร     176\n",
      "ประเวศ      176\n",
      "           ... \n",
      "สายไหม      132\n",
      "ลำลูกกา     110\n",
      "บางปะกง      66\n",
      "พุทธมณฑล     22\n",
      "             10\n",
      "Name: amphur_name, Length: 66, dtype: int64\n"
     ]
    }
   ],
   "source": [
    "# print(df['amphur_code'].value_counts())\n",
    "print(df['amphur_name'].value_counts())"
   ]
  },
  {
   "cell_type": "code",
   "execution_count": 90,
   "metadata": {},
   "outputs": [],
   "source": [
    "def autolabel(rects):\n",
    "    \"\"\"Attach a text label above each bar in *rects*, displaying its height.\"\"\"\n",
    "    for rect in rects.patches:\n",
    "        height = rect.get_height()\n",
    "        ax.annotate('{}'.format(height),\n",
    "                    xy=(rect.get_x() + rect.get_width() / 2, height),\n",
    "                    xytext=(0, 3),  # 3 points vertical offset\n",
    "                    textcoords=\"offset points\",\n",
    "                    ha='center', va='bottom')"
   ]
  },
  {
   "cell_type": "code",
   "execution_count": 92,
   "metadata": {},
   "outputs": [
    {
     "data": {
      "image/png": "[encoded data removed]",
      "text/plain": [
       "<Figure size 720x432 with 1 Axes>"
      ]
     },
     "metadata": {
      "needs_background": "light"
     },
     "output_type": "display_data"
    }
   ],
   "source": [
    "fig, ax = plt.subplots(figsize=(10, 6))\n",
    "pv_name = df['province_name'].unique()\n",
    "pv_counts= df['province_name'].value_counts()\n",
    "bar_colors = ['blue', 'green', 'orange', 'red', 'purple', 'pink', 'cyan']\n",
    "bars = pv_counts.plot(kind='bar',color=bar_colors)\n",
    "autolabel(bars)\n",
    "plt.title('The number of Province Sample')\n",
    "plt.xlabel('Province Name')\n",
    "plt.ylabel('จำนวน')\n",
    "plt.xticks(rotation=45)\n",
    "plt.yscale('log')\n",
    "plt.tight_layout()\n",
    "\n",
    "plt.show()"
   ]
  },
  {
   "cell_type": "code",
   "execution_count": 102,
   "metadata": {},
   "outputs": [
    {
     "data": {
      "image/png": "[encoded data removed]",
      "text/plain": [
       "<Figure size 1800x720 with 1 Axes>"
      ]
     },
     "metadata": {
      "needs_background": "light"
     },
     "output_type": "display_data"
    }
   ],
   "source": [
    "fig, ax = plt.subplots(figsize=(25, 10))\n",
    "pv_name = df['amphur_name'].unique()\n",
    "pv_counts= df['amphur_name'].value_counts()\n",
    "# bar_colors = ['blue', 'green', 'orange', 'red', 'purple', 'pink', 'cyan']\n",
    "bars = pv_counts.plot(kind='bar')\n",
    "autolabel(bars)\n",
    "plt.title('The number of Amphur Sample')\n",
    "plt.xlabel('Amphur Name')\n",
    "plt.ylabel('จำนวน')\n",
    "plt.xticks(rotation=45)\n",
    "plt.yscale('symlog')\n",
    "plt.tight_layout()\n",
    "\n",
    "plt.show()"
   ]
  },
  {
   "cell_type": "code",
   "execution_count": null,
   "metadata": {},
   "outputs": [],
   "source": []
  }
 ],
 "metadata": {
  "kernelspec": {
   "display_name": "Python 3",
   "language": "python",
   "name": "python3"
  },
  "language_info": {
   "codemirror_mode": {
    "name": "ipython",
    "version": 3
   },
   "file_extension": ".py",
   "mimetype": "text/x-python",
   "name": "python",
   "nbconvert_exporter": "python",
   "pygments_lexer": "ipython3",
   "version": "3.8.10"
  },
  "orig_nbformat": 4
 },
 "nbformat": 4,
 "nbformat_minor": 2
}
